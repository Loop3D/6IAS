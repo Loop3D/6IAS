{
  "cells": [
    {
      "cell_type": "markdown",
      "metadata": {
        "id": "view-in-github",
        "colab_type": "text"
      },
      "source": [
        "<a href=\"https://colab.research.google.com/github/Loop3D/6IAS/blob/main/map2loop/1a_Building_a_model_from_local_sources.ipynb\" target=\"_parent\"><img src=\"https://colab.research.google.com/assets/colab-badge.svg\" alt=\"Open In Colab\"/></a>"
      ]
    },
    {
      "cell_type": "code",
      "source": [],
      "metadata": {
        "id": "Pr5APfsQb8OP"
      },
      "execution_count": null,
      "outputs": []
    },
    {
      "cell_type": "markdown",
      "metadata": {
        "id": "GToXJQ4W6sjG"
      },
      "source": [
        "## 1a Building a model from local data sources"
      ]
    },
    {
      "cell_type": "markdown",
      "metadata": {
        "id": "xWjt9h9S6oc1"
      },
      "source": [
        "## Installing dependencies\n",
        "This notebook will use two libraries from the Loop project\n",
        "1. LoopStructural - https://github.com/Loop3D/LoopStructural\n",
        "2. map2loop - https://github.com/Loop3D/map2loop-2\n",
        "\n",
        "\n",
        "The following code blocks will install the required dependencies for the Loop libraries into this colab environment."
      ]
    },
    {
      "cell_type": "markdown",
      "metadata": {
        "id": "WFbWlItm7Geh"
      },
      "source": [
        "In this notebook, the same code as the previous notebook is used, except that this time we are using local data sources (shapefiles for the geological data and a geotiff for the Digital Terrain Model)\n",
        "\n"
      ]
    },
    {
      "cell_type": "code",
      "execution_count": null,
      "metadata": {
        "id": "izmGLNqX6pM8"
      },
      "outputs": [],
      "source": [
        "! git clone https://github.com/Loop3D/map2loop2-notebooks"
      ]
    },
    {
      "cell_type": "code",
      "execution_count": null,
      "metadata": {
        "id": "vvsbluEQ45gk"
      },
      "outputs": [],
      "source": [
        "if 'google.colab' in str(get_ipython()):\n",
        "  !pip install rasterio\n",
        "  !pip install git+https://github.com/geopandas/geopandas.git@v0.10.2\n",
        "  !pip install hjson\n",
        "  !pip install owslib\n",
        "  !pip install git+https://github.com/Loop3D/map2model_cpp.git\n",
        "  !pip install git+https://github.com/Loop3D/LoopProjectFile.git\n",
        "  !pip install pygeos\n",
        "  !pip install mplstereonet\n",
        "  !pip install lavavu-osmesa==1.8.45\n",
        "  !pip install git+https://github.com/Loop3d/LoopStructural\n",
        "  !pip install git+https://github.com/Loop3d/map2loop-2@1.3.5\n",
        "  !pip install beartype\n",
        "  !pip install networkx\n",
        "  !pip install yfiles_jupyter_graphs\n",
        "else:\n",
        "    print('Not running on CoLab, nothing to do')\n"
      ]
    },
    {
      "cell_type": "markdown",
      "source": [
        "## Run Map Analytics code using *map2loop*\n",
        "\n",
        "\n"
      ],
      "metadata": {
        "id": "pzfZLbgdfGYb"
      }
    },
    {
      "cell_type": "code",
      "execution_count": null,
      "metadata": {
        "id": "WGgvwviM4_FM"
      },
      "outputs": [],
      "source": [
        "import os\n",
        "from map2loop.project import Project\n",
        "from map2loop.m2l_enums import VerboseLevel\n",
        "import time\n",
        "from yfiles_jupyter_graphs import GraphWidget\n",
        "import networkx as nx\n",
        "from datetime import datetime\n",
        "from IPython.display import Image\n",
        "\n",
        "nowtime=datetime.now().isoformat(timespec='minutes')\n",
        "model_name=nowtime.replace(\":\",\"-\").replace(\"T\",\"-\")\n",
        "\n",
        "t0 = time.time()\n",
        "\n",
        "proj = Project(\n",
        "                  geology_filename=\"./map2loop2-notebooks/source_data/geol_clip.shp\",\n",
        "                  fault_filename=\"./map2loop2-notebooks/source_data/faults_clip.shp\",\n",
        "                  fold_filename=\"./map2loop2-notebooks/source_data/folds_clip.shp\",\n",
        "                  structure_filename=\"./map2loop2-notebooks/source_data/structure_clip.shp\",\n",
        "                  mindep_filename=\"./map2loop2-notebooks/source_data/mindeps_clip.shp\",\n",
        "                  dtm_filename='./map2loop2-notebooks/source_data/dtm_rp.tif',\n",
        "                  metadata_filename='./map2loop2-notebooks/source_data/example.hjson',\n",
        "                  overwrite=\"true\",\n",
        "                  verbose_level=VerboseLevel.NONE,\n",
        "                  project_path=model_name,\n",
        "                  working_projection=\"EPSG:28350\",\n",
        "                )\n",
        "\n",
        "proj.update_config(\n",
        "                    out_dir=model_name,\n",
        "                    bbox_3d={\n",
        "                         \"minx\": 515000,\n",
        "                         \"miny\": 7495000,\n",
        "                         \"maxx\": 562000,\n",
        "                         \"maxy\": 7520000,\n",
        "                         \"base\": -3200,\n",
        "                         \"top\": 1200,\n",
        "                     },\n",
        "                     run_flags={\n",
        "                        'aus': True,\n",
        "                        'close_dip': -999,\n",
        "                        'contact_decimate': 5,\n",
        "                        'contact_dip': -999,\n",
        "                        'contact_orientation_decimate': 5,\n",
        "                        'deposits': \"Fe,Cu,Au,NONE\",\n",
        "                        'dist_buffer': 10,\n",
        "                        'dtb': '',\n",
        "                        'fat_step': 750,\n",
        "                        'fault_decimate': 5,\n",
        "                        'fault_dip': 90,\n",
        "                        'fold_decimate': 5,\n",
        "                        'interpolation_scheme': 'scipy_rbf',\n",
        "                        'interpolation_spacing': 500,\n",
        "                        'intrusion_mode': 0,\n",
        "                        'max_thickness_allowed': 10000,\n",
        "                        'min_fault_length': 5000,\n",
        "                        'misorientation': 30,\n",
        "                        'null_scheme': 'null',\n",
        "                        'orientation_decimate': 0,\n",
        "                        'pluton_dip': 45,\n",
        "                        'pluton_form': 'saucers',\n",
        "                        'thickness_buffer': 5000,\n",
        "                        'use_fat': False,\n",
        "                        'use_interpolations': False,\n",
        "                        'fault_orientation_clusters':2,\n",
        "                        'fault_length_clusters':2\n",
        "                    },\n",
        "                    proj_crs= 'EPSG:28350',\n",
        "                    clut_path='./map2loop2-notebooks/source_data/500kibg_colours.csv',\n",
        "                    #quiet='all' # change this to 'None' (with quotes) to see intermediate output\n",
        "                  )\n",
        "proj.config.c_l['intrusive']='mafic intrusive'\n",
        "proj.workflow['contact_dips'] = True\n",
        "proj.run()"
      ]
    },
    {
      "cell_type": "code",
      "source": [
        "Image(proj.config.project_path+'/'+model_name+'.png')"
      ],
      "metadata": {
        "id": "lixdt1YePzri"
      },
      "execution_count": null,
      "outputs": []
    },
    {
      "cell_type": "code",
      "source": [
        "if(not os.path.exists(proj.config.project_path+'/shps')):\n",
        "  os.mkdir(proj.config.project_path+'/shps')\n",
        "  os.mkdir(proj.config.project_path+'/shps/GEOLOGY')\n",
        "  os.mkdir(proj.config.project_path+'/shps/FAULT')\n",
        "  os.mkdir(proj.config.project_path+'/shps/FOLD')\n",
        "  os.mkdir(proj.config.project_path+'/shps/MINERAL_DEPOSIT')\n",
        "  os.mkdir(proj.config.project_path+'/shps/DTM')\n",
        "  os.mkdir(proj.config.project_path+'/shps/STRUCTURE')\n",
        "  proj.save_mapdata_to_shapefiles(proj.config.project_path+'/shps')\n"
      ],
      "metadata": {
        "id": "3X7hZqAZeOKP"
      },
      "execution_count": null,
      "outputs": []
    },
    {
      "cell_type": "markdown",
      "source": [
        "## Analyse Stratigraphic Graph"
      ],
      "metadata": {
        "id": "pfCzUWaZfPhc"
      }
    },
    {
      "cell_type": "code",
      "source": [
        "from google.colab import output\n",
        "output.enable_custom_widget_manager()\n",
        "\n",
        "w = GraphWidget()\n",
        "g=nx.read_gml(proj.config.project_path+'/output/loop.gml', label=\"id\")\n",
        "w.import_graph(g)\n",
        "w"
      ],
      "metadata": {
        "id": "jdK5udRwB7Y8"
      },
      "execution_count": null,
      "outputs": []
    },
    {
      "cell_type": "markdown",
      "source": [
        "## Mapping outputs"
      ],
      "metadata": {
        "id": "7WmDdRuQfoF4"
      }
    },
    {
      "cell_type": "code",
      "source": [
        "from map2loop.m2l_utils import plot_points\n",
        "import geopandas as gpd\n",
        "\n",
        "geol_clip=gpd.read_file(proj.config.project_path+'/shps/GEOLOGY/.shp')\n",
        "\n",
        "plot_points(proj.config.output_path+'/orientations_clean.csv',geol_clip,'dip','X','Y',True,'numeric','Bedding Orientations')\n"
      ],
      "metadata": {
        "id": "ZiJYsFCldjC6"
      },
      "execution_count": null,
      "outputs": []
    },
    {
      "cell_type": "code",
      "source": [
        "plot_points(proj.config.output_path+'/faults.csv',geol_clip,'Z','X','Y',True,'numeric','Faults')\n"
      ],
      "metadata": {
        "id": "z2ztoue_hZW7"
      },
      "execution_count": null,
      "outputs": []
    },
    {
      "cell_type": "code",
      "source": [
        "plot_points(proj.config.output_path+'/formation_thicknesses_norm.csv',geol_clip,'thickness','x','y',True,'numeric','Formation Thickness')\n"
      ],
      "metadata": {
        "id": "BOOPAh0Tha9x"
      },
      "execution_count": null,
      "outputs": []
    },
    {
      "cell_type": "code",
      "source": [
        "plot_points(proj.config.output_path+'/fault_strat_offset3.csv',geol_clip,'strat_offset','X','Y',True,'numeric','Stratigraphic Offset Across Faults')\n"
      ],
      "metadata": {
        "id": "uNNDt3aqhbq_"
      },
      "execution_count": null,
      "outputs": []
    },
    {
      "cell_type": "markdown",
      "source": [
        "## Run 3D Modelling Analysis using *LoopStructural*"
      ],
      "metadata": {
        "id": "QMgOkhYkfzoz"
      }
    },
    {
      "cell_type": "code",
      "execution_count": null,
      "metadata": {
        "id": "G1b3_X-M5I3v"
      },
      "outputs": [],
      "source": [
        "# Define project pathing from m2l\n",
        "proj_path = proj.config.project_path\n",
        "graph_path = proj.config.graph_path\n",
        "tmp_path = proj.config.tmp_path\n",
        "output_path = proj.config.output_path\n",
        "\n",
        "# Define project bounds\n",
        "minx,miny,maxx,maxy = proj.config.bbox\n",
        "model_base = proj.config.bbox_3d['base']\n",
        "model_top = proj.config.bbox_3d['top']\n",
        "\n",
        "dtm_path=model_name+'/dtm/'\n",
        "vtk_path=model_name+'/vtk/'"
      ]
    },
    {
      "cell_type": "code",
      "execution_count": null,
      "metadata": {
        "id": "0Y1Roea25SDe"
      },
      "outputs": [],
      "source": [
        "try:\n",
        "    from google.colab import output\n",
        "    output.enable_custom_widget_manager()\n",
        "except ImportError:\n",
        "    pass\n",
        "\n",
        "from LoopStructural import GeologicalModel\n",
        "from LoopStructural.visualisation import LavaVuModelViewer\n",
        "from datetime import datetime\n",
        "import os\n",
        "import time\n",
        "import shutil\n",
        "import logging\n",
        "#logging.getLogger().setLevel(logging.ERROR)\n",
        "import lavavu\n",
        "import numpy as np\n",
        "from map2loop.m2l_utils import save_dtm_mesh\n",
        "\n",
        "t1 = time.time()\n",
        "\n",
        "filename=vtk_path+'/'+'surface_name_{}.vtk'\n",
        "\n",
        "save_dtm_mesh(dtm_path,vtk_path)\n",
        "\n",
        "f=open(tmp_path+'/bbox.csv','w')\n",
        "f.write('minx,miny,maxx,maxy,lower,upper\\n')\n",
        "ostr='{},{},{},{},{},{}\\n'.format(minx,miny,maxx,maxy,model_base,model_top)\n",
        "f.write(ostr)\n",
        "f.close()\n",
        "\n",
        "\n",
        "fault_params = {'interpolatortype':'FDI',\n",
        "                 'nelements':1e5,\n",
        "                }\n",
        "foliation_params = {'interpolatortype':'FDI' , # 'interpolatortype':'PLI',\n",
        "                    'nelements':1e5,  # how many tetras/voxels\n",
        "                    }\n",
        "model, m2l_data = GeologicalModel.from_map2loop_directory(proj_path,\n",
        "                                                          fault_params=fault_params,\n",
        "                                                          rescale=False,\n",
        "                                                          foliation_params=foliation_params)\n",
        "model.update()\n",
        "#model.to_file(output_path + \"/model.pickle\")\n",
        "\n",
        "view = LavaVuModelViewer(model,vertical_exaggeration=1)\n",
        "view.nsteps=np.array([50,50,50])\n",
        "for sg in model.feature_name_index:\n",
        "    if( 'super' in sg):\n",
        "        view.add_data(model.features[model.feature_name_index[sg]])\n",
        "view.nelements = 1e5\n",
        "view.add_model_surfaces(filename=filename,faults=False)\n",
        "view.nelements=1e6\n",
        "view.add_model_surfaces(filename=filename,strati=False,displacement_cmap = 'rainbow')\n",
        "view.lv.webgl(vtk_path+model_name)\n",
        "view.nsteps = np.array([200,200,200])\n",
        "\n",
        "view.add_model()\n",
        "\n",
        "\n",
        "t2 = time.time()\n",
        "print(\"m2l\",(t1-t0)/60.0,\"LoopStructural\",(t2-t1)/60.0,\"Total\",(t2-t0)/60.0,\"minutes\")"
      ]
    },
    {
      "cell_type": "code",
      "execution_count": null,
      "metadata": {
        "id": "ynWMXNLg-1aU"
      },
      "outputs": [],
      "source": [
        "view.interactive()\n"
      ]
    }
  ],
  "metadata": {
    "colab": {
      "name": "1a Building a model from local sources.ipynb",
      "provenance": [],
      "include_colab_link": true
    },
    "kernelspec": {
      "display_name": "Python 3",
      "name": "python3"
    },
    "language_info": {
      "name": "python"
    }
  },
  "nbformat": 4,
  "nbformat_minor": 0
}